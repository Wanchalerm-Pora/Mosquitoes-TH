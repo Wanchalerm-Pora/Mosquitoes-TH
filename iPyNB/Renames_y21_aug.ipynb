{
 "cells": [
  {
   "cell_type": "code",
   "execution_count": 1,
   "id": "c86b8356-f4dc-47da-8fc6-e0a7d623373f",
   "metadata": {},
   "outputs": [],
   "source": [
    "import os\n"
   ]
  },
  {
   "cell_type": "code",
   "execution_count": 2,
   "id": "ad25ba14-6c3a-4293-85e4-78c4040cc790",
   "metadata": {},
   "outputs": [],
   "source": [
    "def renames(folder_path, species_old, species_new, phone):\n",
    "    count = 0\n",
    "    for path, subdirs, files in os.walk(folder_path):\n",
    "        for filename in files:\n",
    "            if(species_old in filename):\n",
    "                file_path = os.path.join(path,filename)\n",
    "                filename, ext = os.path.splitext(filename)\n",
    "                if filename[0:1].isnumeric():\n",
    "                    aug = 'a' + filename[0:1]\n",
    "                    filename = filename[2:]\n",
    "                else:\n",
    "                    aug = 'na'\n",
    "                filename = filename[len(species_old):]\n",
    "                if filename[0:3].isnumeric():\n",
    "                    specimen = 's' + filename[0:3]\n",
    "                    light ='l'+filename[4:5]\n",
    "                    take = 't' + filename[6:]\n",
    "                elif filename[0:2].isnumeric():\n",
    "                    specimen = 's' + filename[0:2]\n",
    "                    light ='l'+filename[3:4]\n",
    "                    take = 't' + filename[5:]                \n",
    "                else:\n",
    "                    specimen = 's' + filename[0:1]\n",
    "                    light ='l'+filename[2:3]\n",
    "                    take = 't' + filename[4:]\n",
    "                newfilename = phone+'_'+species_new+'_'+specimen+'_'+light+'_'+take+'_'+aug+ext\n",
    "                new_name = os.path.join(path,newfilename)\n",
    "                os.rename(file_path, new_name)\n",
    "                count += 1\n",
    "    print(\"Rename \"+str(count)+\" Files.\")"
   ]
  },
  {
   "cell_type": "code",
   "execution_count": 4,
   "id": "fc172f92-e7c4-4dcf-af0e-090926191cc1",
   "metadata": {},
   "outputs": [
    {
     "name": "stdout",
     "output_type": "stream",
     "text": [
      "Rename 100 Files.\n"
     ]
    }
   ],
   "source": [
    "folder_path='./datasets/Chula7MosDatasets/Vivo-Y21/l12/'\n",
    "folder_path += 'Ae-aegypti'\n",
    "species_old = 'AeAegyp'\n",
    "species_new = 'Ae-aegypti'\n",
    "phone='Vivo-Y21'\n",
    "renames(folder_path, species_old, species_new, phone)\n"
   ]
  },
  {
   "cell_type": "code",
   "execution_count": 5,
   "id": "c70e3a0e-66da-42ee-9d38-0a2393726b91",
   "metadata": {},
   "outputs": [
    {
     "name": "stdout",
     "output_type": "stream",
     "text": [
      "Rename 80 Files.\n"
     ]
    }
   ],
   "source": [
    "folder_path='./datasets/Chula7MosDatasets/Vivo-Y21/l12/'\n",
    "folder_path += 'Ae-albopictus'\n",
    "species_old = 'AeAlbo'\n",
    "species_new = 'Ae-albopictus'\n",
    "phone='Vivo-Y21'\n",
    "renames(folder_path, species_old, species_new, phone)\n"
   ]
  },
  {
   "cell_type": "code",
   "execution_count": 6,
   "id": "3c3ab40b-2927-4864-9fb9-4e5f21898033",
   "metadata": {},
   "outputs": [
    {
     "name": "stdout",
     "output_type": "stream",
     "text": [
      "Rename 63 Files.\n"
     ]
    }
   ],
   "source": [
    "folder_path='./datasets/Chula7MosDatasets/Vivo-Y21/l12/'\n",
    "folder_path += 'Ae-vexans'\n",
    "species_old = 'AeVax'\n",
    "species_new = 'Ae-vexans'\n",
    "phone='Vivo-Y21'\n",
    "renames(folder_path, species_old, species_new, phone)\n"
   ]
  },
  {
   "cell_type": "code",
   "execution_count": 8,
   "id": "8b0a355a-b2c8-43fb-9e12-6ccd0f161583",
   "metadata": {},
   "outputs": [
    {
     "name": "stdout",
     "output_type": "stream",
     "text": [
      "Rename 67 Files.\n"
     ]
    }
   ],
   "source": [
    "folder_path='./datasets/Chula7MosDatasets/Vivo-Y21/l12/'\n",
    "folder_path += 'An-tessellatus'\n",
    "species_old = 'AnTessel'\n",
    "species_new = 'An-tessellatus'\n",
    "phone='Vivo-Y21'\n",
    "renames(folder_path, species_old, species_new, phone)\n"
   ]
  },
  {
   "cell_type": "code",
   "execution_count": 9,
   "id": "1452e4a0-05e3-4c13-896b-1580ade9b802",
   "metadata": {},
   "outputs": [
    {
     "name": "stdout",
     "output_type": "stream",
     "text": [
      "Rename 71 Files.\n"
     ]
    }
   ],
   "source": [
    "folder_path='./datasets/Chula7MosDatasets/Vivo-Y21/l12/'\n",
    "folder_path += 'Cx-quinquefasciatus'\n",
    "species_old = 'CxQuinque'\n",
    "species_new = 'Cx-quinquefasciatus'\n",
    "phone='Vivo-Y21'\n",
    "renames(folder_path, species_old, species_new, phone)\n"
   ]
  },
  {
   "cell_type": "code",
   "execution_count": 10,
   "id": "e0d5ea0b-37db-4eb3-aff4-94e7d8943acb",
   "metadata": {},
   "outputs": [
    {
     "name": "stdout",
     "output_type": "stream",
     "text": [
      "Rename 83 Files.\n"
     ]
    }
   ],
   "source": [
    "folder_path='./datasets/Chula7MosDatasets/Vivo-Y21/l12/'\n",
    "folder_path += 'Cx-vishnui'\n",
    "species_old = 'CxVish'\n",
    "species_new = 'Cx-vishnui'\n",
    "phone='Vivo-Y21'\n",
    "renames(folder_path, species_old, species_new, phone)\n"
   ]
  },
  {
   "cell_type": "code",
   "execution_count": 11,
   "id": "ccb8e96c-7045-4037-b14b-6e4cf7cc647f",
   "metadata": {},
   "outputs": [
    {
     "name": "stdout",
     "output_type": "stream",
     "text": [
      "Rename 86 Files.\n"
     ]
    }
   ],
   "source": [
    "folder_path='./datasets/Chula7MosDatasets/Vivo-Y21/l12/'\n",
    "folder_path += 'Misc'\n",
    "species_old = 'Other'\n",
    "species_new = 'Misc'\n",
    "phone='Vivo-Y21'\n",
    "renames(folder_path, species_old, species_new, phone)\n"
   ]
  },
  {
   "cell_type": "code",
   "execution_count": null,
   "id": "4fc1cd87-2560-4654-bf14-5de41e0d2234",
   "metadata": {},
   "outputs": [],
   "source": []
  }
 ],
 "metadata": {
  "kernelspec": {
   "display_name": "Python 3 (ipykernel)",
   "language": "python",
   "name": "python3"
  },
  "language_info": {
   "codemirror_mode": {
    "name": "ipython",
    "version": 3
   },
   "file_extension": ".py",
   "mimetype": "text/x-python",
   "name": "python",
   "nbconvert_exporter": "python",
   "pygments_lexer": "ipython3",
   "version": "3.10.6"
  }
 },
 "nbformat": 4,
 "nbformat_minor": 5
}
