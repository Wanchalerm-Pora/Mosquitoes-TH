{
 "cells": [
  {
   "cell_type": "code",
   "execution_count": 1,
   "id": "c86b8356-f4dc-47da-8fc6-e0a7d623373f",
   "metadata": {},
   "outputs": [],
   "source": [
    "import os\n"
   ]
  },
  {
   "cell_type": "code",
   "execution_count": 11,
   "id": "ad25ba14-6c3a-4293-85e4-78c4040cc790",
   "metadata": {},
   "outputs": [],
   "source": [
    "def renames(folder_path, species_old, species_new, phone):\n",
    "    count = 0\n",
    "    for path, subdirs, files in os.walk(folder_path):\n",
    "        for filename in files:\n",
    "            if(species_old in filename):\n",
    "                file_path = os.path.join(path,filename)\n",
    "                filename, ext = os.path.splitext(filename)\n",
    "                if filename[0:1].isnumeric():\n",
    "                    aug = 'a' + filename[0:1]\n",
    "                    filename = filename[2:]\n",
    "                else:\n",
    "                    aug = 'na'\n",
    "                filename = filename[len(species_old)+1:]\n",
    "                if filename[0:3].isnumeric():\n",
    "                    specimen = 's' + filename[0:3]\n",
    "                    take = 't' + filename[4:]\n",
    "                elif filename[0:2].isnumeric():\n",
    "                    specimen = 's' + filename[0:2]\n",
    "                    take = 't' + filename[3:]\n",
    "                else:\n",
    "                    specimen = 's' + filename[0:1]\n",
    "                    take = 't' + filename[2:]\n",
    "                newfilename = phone+'_'+species_new+'_'+specimen+'_'+take+'_'+aug+ext\n",
    "                new_name = os.path.join(path,newfilename)\n",
    "                os.rename(file_path, new_name)\n",
    "                count += 1\n",
    "    print(\"Rename \"+str(count)+\" Files.\")"
   ]
  },
  {
   "cell_type": "code",
   "execution_count": 17,
   "id": "fc172f92-e7c4-4dcf-af0e-090926191cc1",
   "metadata": {},
   "outputs": [
    {
     "name": "stdout",
     "output_type": "stream",
     "text": [
      "Rename 3740 Files.\n"
     ]
    }
   ],
   "source": [
    "folder_path='./datasets/Chula7MosDatasets/Mosquito_512/Mosquito_7class_512_aug/'\n",
    "folder_path += 'Cx-quinquefasciatus'\n",
    "species_old = 'Culex quinquefaciatus'\n",
    "species_new = 'Cx-quinquefasciatus'\n",
    "phone='Vivo-V21'\n",
    "renames(folder_path, species_old, species_new, phone)\n"
   ]
  },
  {
   "cell_type": "code",
   "execution_count": 18,
   "id": "6affb33b-03d6-4364-b33c-c4576788e43e",
   "metadata": {},
   "outputs": [
    {
     "name": "stdout",
     "output_type": "stream",
     "text": [
      "Rename 4169 Files.\n"
     ]
    }
   ],
   "source": [
    "folder_path='./datasets/Chula7MosDatasets/Mosquito_512/Mosquito_7class_512_aug/'\n",
    "folder_path += 'Cx-quinquefasciatus'\n",
    "species_old = 'Culex quin'\n",
    "species_new = 'Cx-quinquefasciatus'\n",
    "phone='Vivo-V21'\n",
    "renames(folder_path, species_old, species_new, phone)\n"
   ]
  },
  {
   "cell_type": "code",
   "execution_count": 19,
   "id": "756f1654-b553-4ecc-8a2b-94634d2de837",
   "metadata": {},
   "outputs": [
    {
     "name": "stdout",
     "output_type": "stream",
     "text": [
      "Rename 1584 Files.\n"
     ]
    }
   ],
   "source": [
    "folder_path='./datasets/Chula7MosDatasets/Mosquito_512/Mosquito_7class_512_aug/'\n",
    "folder_path += 'Cx-vishnui'\n",
    "species_old = 'Culex vishnui'\n",
    "species_new = 'Cx-vishnui'\n",
    "phone='Vivo-V21'\n",
    "renames(folder_path, species_old, species_new, phone)"
   ]
  },
  {
   "cell_type": "code",
   "execution_count": 20,
   "id": "edf629f5-c72d-4496-ae37-7813f9c1c16f",
   "metadata": {},
   "outputs": [
    {
     "name": "stdout",
     "output_type": "stream",
     "text": [
      "Rename 5126 Files.\n"
     ]
    }
   ],
   "source": [
    "folder_path='./datasets/Chula7MosDatasets/Mosquito_512/Mosquito_7class_512_aug/'\n",
    "folder_path += 'Cx-vishnui'\n",
    "species_old = 'Cx vishnui'\n",
    "species_new = 'Cx-vishnui'\n",
    "phone='Vivo-V21'\n",
    "renames(folder_path, species_old, species_new, phone)"
   ]
  },
  {
   "cell_type": "code",
   "execution_count": 21,
   "id": "99f9a687-5bf5-4fc7-bab9-893687917142",
   "metadata": {},
   "outputs": [
    {
     "name": "stdout",
     "output_type": "stream",
     "text": [
      "Rename 7789 Files.\n"
     ]
    }
   ],
   "source": [
    "folder_path='./datasets/Chula7MosDatasets/Mosquito_512/Mosquito_7class_512_aug/'\n",
    "folder_path += 'Oth'\n",
    "species_old = 'C Oth'\n",
    "species_new = 'Misc'\n",
    "phone='Vivo-V21'\n",
    "renames(folder_path, species_old, species_new, phone)"
   ]
  },
  {
   "cell_type": "code",
   "execution_count": null,
   "id": "4fc1cd87-2560-4654-bf14-5de41e0d2234",
   "metadata": {},
   "outputs": [],
   "source": []
  }
 ],
 "metadata": {
  "kernelspec": {
   "display_name": "Python 3 (ipykernel)",
   "language": "python",
   "name": "python3"
  },
  "language_info": {
   "codemirror_mode": {
    "name": "ipython",
    "version": 3
   },
   "file_extension": ".py",
   "mimetype": "text/x-python",
   "name": "python",
   "nbconvert_exporter": "python",
   "pygments_lexer": "ipython3",
   "version": "3.10.6"
  }
 },
 "nbformat": 4,
 "nbformat_minor": 5
}
