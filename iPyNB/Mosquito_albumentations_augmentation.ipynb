{
 "cells": [
  {
   "cell_type": "code",
   "execution_count": 1,
   "id": "00ace072",
   "metadata": {},
   "outputs": [
    {
     "name": "stderr",
     "output_type": "stream",
     "text": [
      "2022-10-15 13:03:33.579509: I tensorflow/core/util/util.cc:169] oneDNN custom operations are on. You may see slightly different numerical results due to floating-point round-off errors from different computation orders. To turn them off, set the environment variable `TF_ENABLE_ONEDNN_OPTS=0`.\n"
     ]
    }
   ],
   "source": [
    "import albumentations as A\n",
    "from PIL import Image\n",
    "import tensorflow as tf\n",
    "import numpy as np\n",
    "import matplotlib.pyplot as plt\n",
    "import os\n",
    "\n",
    "# how many times augmentation occurs per file\n",
    "number_of_augmentation = 10\n",
    "\n",
    "\n"
   ]
  },
  {
   "cell_type": "code",
   "execution_count": 2,
   "id": "5e29febf",
   "metadata": {},
   "outputs": [],
   "source": [
    "transform = A.Compose([\n",
    "    A.Sequential([\n",
    "        A.Flip(always_apply=False, p=0.5),\n",
    "        A.GaussNoise(always_apply=False, p=0.5, mean=0.25, var_limit=(10, 50)),\n",
    "        A.ShiftScaleRotate(always_apply=False, p=0.5, shift_limit=(-0.1, 0.1), scale_limit=(-0.2, 0.2), rotate_limit=(-180, 180), interpolation=0, border_mode=0, value=(0, 0, 0), mask_value=None),\n",
    "#            A.JpegCompression(always_apply=False, p=1.0, quality_lower=80, quality_upper=100),\n",
    "        A.RandomBrightnessContrast(always_apply=False, p=0.5, brightness_limit=(-0.2, 0.2), contrast_limit=(-0.2, 0.2), brightness_by_max=True),\n",
    "        A.HueSaturationValue(always_apply=False, p=0.5, hue_shift_limit=(0, 20), sat_shift_limit=(-30, 30), val_shift_limit=(-20, 20)),\n",
    "        A.RandomGamma(always_apply=False, p=0.5, gamma_limit=(80, 120), eps=1e-07)\n",
    "#            A.Blur(always_apply=False, p=1.0, blur_limit=(3, 3))\n",
    "#        A.Resize(always_apply=False, p=1.0, height=400, width=400, interpolation=0),\n",
    "       ])\n",
    "     \n",
    " ])"
   ]
  },
  {
   "cell_type": "code",
   "execution_count": 8,
   "id": "46fe6179-0755-4607-a314-d3a6e0a51ea5",
   "metadata": {},
   "outputs": [],
   "source": [
    "def augment(input_folder, output_folder, number_of_augmentation):\n",
    "    # scan input_folder\n",
    "    species_list = [species for species in os.listdir(input_folder) if os.path.isdir(input_folder  + species)]\n",
    "\n",
    "    sum_files = 0\n",
    "    num_species = len(species_list)\n",
    "\n",
    "    for species in species_list:\n",
    "        source_folder = input_folder+species+'/'\n",
    "        result_folder = output_folder+species+'/'\n",
    "        os.makedirs(result_folder,exist_ok=True)\n",
    "        # make a list of image files\n",
    "        image_files = [image_file for image_file in os.listdir(source_folder) \n",
    "                       if (image_file.lower().endswith(('.png', '.jpg', '.jpeg', '.tiff', '.bmp', '.gif'))) and \n",
    "                       ('_na' in image_file)\n",
    "                           ]\n",
    "        \n",
    "        num_files = len(image_files)\n",
    "        sum_files += num_files\n",
    "        print('Found: ' + str(num_files) + ' image files of '+ species + '.')\n",
    "        for i in range(number_of_augmentation):\n",
    "            print('\\r  Augmenting...' + str(i), end=\"\")\n",
    "            for j in range(len(image_files)):\n",
    "                img = Image.open(source_folder + image_files[j])\n",
    "                img = np.array(img)\n",
    "                img_aug_array = transform(image=img)['image']\n",
    "                img_aug = Image.fromarray(img_aug_array)\n",
    "                fileName, fileExt = os.path.splitext(image_files[j])\n",
    "                fileName = fileName[0:len(fileName)-3]\n",
    "                img_aug.save(result_folder  + fileName + '_A' + str(i)+'.png' )\n",
    "        print(\"\\r  Augmentation \" + str(number_of_augmentation) + \" times completed.\")\n",
    "    print(\"Finish Albumentation (image augmentation)!!!\" )\n",
    "    print(\"Found a total of \" + str(sum_files) + \" files in \" + str(num_species) + ' species from ' + input_folder +'.')\n",
    "    print('Create ' + str(sum_files*number_of_augmentation) + ' files in ' + output_folder + '.')"
   ]
  },
  {
   "cell_type": "code",
   "execution_count": 9,
   "id": "2331a51c-8ef6-47d9-8184-57e4c427f7ed",
   "metadata": {},
   "outputs": [
    {
     "name": "stdout",
     "output_type": "stream",
     "text": [
      "Found: 60 image files of Ae-albopictus.\n",
      "  Augmentation 10 times completed.\n",
      "Found: 55 image files of An-tessellatus.\n",
      "  Augmentation 10 times completed.\n",
      "Found: 59 image files of Ae-aegypti.\n",
      "  Augmentation 10 times completed.\n",
      "Found: 59 image files of Misc.\n",
      "  Augmentation 10 times completed.\n",
      "Found: 54 image files of Cx-vishnui.\n",
      "  Augmentation 10 times completed.\n",
      "Found: 86 image files of Ae-vexans.\n",
      "  Augmentation 10 times completed.\n",
      "Found: 68 image files of Cx-quinquefasciatus.\n",
      "  Augmentation 10 times completed.\n",
      "Finish Albumentation (image augmentation)!!!\n",
      "Found a total of 441 files in 7 species from ./datasets/Chula7MosDatasets/Galaxy-A52s/l12/.\n",
      "Create 4410files in ./datasets/Chula7MosDatasets/Galaxy-A52s/l12_aug/.\n"
     ]
    }
   ],
   "source": [
    "# contains species_A/image_files species_B/image_files ....   \n",
    "input_folder = './datasets/Chula7MosDatasets/Galaxy-A52s/l12/'\n",
    "# where to save the augmented results\n",
    "output_folder = './datasets/Chula7MosDatasets/Galaxy-A52s/l12_aug/'\n",
    "\n",
    "augment(input_folder, output_folder, number_of_augmentation)\n",
    " "
   ]
  },
  {
   "cell_type": "code",
   "execution_count": 10,
   "id": "c3571253-e2fa-4904-b6b8-15a3b2ec34c8",
   "metadata": {},
   "outputs": [
    {
     "name": "stdout",
     "output_type": "stream",
     "text": [
      "Found: 80 image files of Ae-albopictus.\n",
      "  Augmentation 10 times completed.\n",
      "Found: 0 image files of Culex vishnui.\n",
      "  Augmentation 10 times completed.\n",
      "Found: 0 image files of Culex quinquefasciatus.\n",
      "  Augmentation 10 times completed.\n",
      "Found: 0 image files of Anopheles tessellatus.\n",
      "  Augmentation 10 times completed.\n",
      "Found: 0 image files of Aedes aegypti.\n",
      "  Augmentation 10 times completed.\n",
      "Found: 67 image files of An-tessellatus.\n",
      "  Augmentation 10 times completed.\n",
      "Found: 0 image files of Aedes vexans.\n",
      "  Augmentation 10 times completed.\n",
      "Found: 100 image files of Ae-aegypti.\n",
      "  Augmentation 10 times completed.\n",
      "Found: 86 image files of Misc.\n",
      "  Augmentation 10 times completed.\n",
      "Found: 0 image files of Aedes albopictus.\n",
      "  Augmentation 10 times completed.\n",
      "Found: 83 image files of Cx-vishnui.\n",
      "  Augmentation 10 times completed.\n",
      "Found: 63 image files of Ae-vexans.\n",
      "  Augmentation 10 times completed.\n",
      "Found: 71 image files of Cx-quinquefasciatus.\n",
      "  Augmentation 10 times completed.\n",
      "Found: 0 image files of Others.\n",
      "  Augmentation 10 times completed.\n",
      "Finish Albumentation (image augmentation)!!!\n",
      "Found a total of 550 files in 14 species from ./datasets/Chula7MosDatasets/Vivo-Y21/l12/.\n",
      "Create 5500files in ./datasets/Chula7MosDatasets/Vivo-Y21/l12_aug/.\n"
     ]
    }
   ],
   "source": [
    "# contains species_A/image_files species_B/image_files ....   \n",
    "input_folder = './datasets/Chula7MosDatasets/Vivo-Y21/l12/'\n",
    "# where to save the augmented results\n",
    "output_folder = './datasets/Chula7MosDatasets/Vivo-Y21/l12_aug/'\n",
    "\n",
    "augment(input_folder, output_folder, number_of_augmentation)\n"
   ]
  },
  {
   "cell_type": "code",
   "execution_count": null,
   "id": "afeaf75e-025b-49b0-98b1-a89c0365161b",
   "metadata": {},
   "outputs": [],
   "source": []
  }
 ],
 "metadata": {
  "kernelspec": {
   "display_name": "Python 3 (ipykernel)",
   "language": "python",
   "name": "python3"
  },
  "language_info": {
   "codemirror_mode": {
    "name": "ipython",
    "version": 3
   },
   "file_extension": ".py",
   "mimetype": "text/x-python",
   "name": "python",
   "nbconvert_exporter": "python",
   "pygments_lexer": "ipython3",
   "version": "3.10.6"
  }
 },
 "nbformat": 4,
 "nbformat_minor": 5
}
