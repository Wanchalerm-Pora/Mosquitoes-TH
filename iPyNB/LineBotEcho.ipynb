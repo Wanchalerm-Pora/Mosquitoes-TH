{
 "cells": [
  {
   "cell_type": "code",
   "execution_count": 6,
   "id": "86f83f62",
   "metadata": {},
   "outputs": [],
   "source": [
    "# -*- coding: utf-8 -*-\n",
    "\n",
    "#  Licensed under the Apache License, Version 2.0 (the \"License\"); you may\n",
    "#  not use this file except in compliance with the License. You may obtain\n",
    "#  a copy of the License at\n",
    "#\n",
    "#       http://www.apache.org/licenses/LICENSE-2.0\n",
    "#\n",
    "#  Unless required by applicable law or agreed to in writing, software\n",
    "#  distributed under the License is distributed on an \"AS IS\" BASIS, WITHOUT\n",
    "#  WARRANTIES OR CONDITIONS OF ANY KIND, either express or implied. See the\n",
    "#  License for the specific language governing permissions and limitations\n",
    "#  under the License.\n",
    "\n",
    "import os\n",
    "import sys\n",
    "import wsgiref.simple_server as simple_server\n",
    "from argparse import ArgumentParser\n",
    "\n",
    "from builtins import bytes\n",
    "from linebot import (\n",
    "    LineBotApi, WebhookParser\n",
    ")\n",
    "from linebot.exceptions import (\n",
    "    InvalidSignatureError\n",
    ")\n",
    "from linebot.models import (\n",
    "    MessageEvent, TextMessage, TextSendMessage, ImageMessage, ImageSendMessage\n",
    ")\n",
    "from linebot.utils import PY3"
   ]
  },
  {
   "cell_type": "code",
   "execution_count": 7,
   "id": "b4eb0bac",
   "metadata": {},
   "outputs": [],
   "source": [
    "# get channel_secret and channel_access_token from your environment variable\n",
    "channel_secret = 'c73718e5e705e7be5c3736c49c4863b5'\n",
    "channel_access_token = 'MW/mgLewP4q1ko1rDC2hP4+RkKfnM3BPNK7yj0vT7sDwUJh2Wnb3ixSnHVwcpWgNTSpVuTRW5dUf9sXYhUg0MPdJX31PPMDiAsacCk+fy1bzQhUBkIsXe2TYKTMJdrpZM5QcD5iupo3Byjt+nyCEZgdB04t89/1O/w1cDnyilFU='\n",
    "if channel_secret is None:\n",
    "    print('Specify LINE_CHANNEL_SECRET as environment variable.')\n",
    "    sys.exit(1)\n",
    "if channel_access_token is None:\n",
    "    print('Specify LINE_CHANNEL_ACCESS_TOKEN as environment variable.')\n",
    "    sys.exit(1)\n",
    "\n",
    "line_bot_api = LineBotApi(channel_access_token)\n",
    "parser = WebhookParser(channel_secret)"
   ]
  },
  {
   "cell_type": "code",
   "execution_count": 18,
   "id": "07eccce6",
   "metadata": {},
   "outputs": [],
   "source": [
    "file_path = './received.jpeg'\n",
    "def application(environ, start_response):\n",
    "    # check request path\n",
    "    path_info = environ['PATH_INFO']\n",
    "    if path_info != '/callback':\n",
    "        print(path_info)\n",
    "        if path_info.lower().find('images') != 1:\n",
    "            start_response('404 Not Found', [])\n",
    "            return create_body('Not Found')\n",
    "    if path_info == '/callback':\n",
    "        # check request method\n",
    "        if environ['REQUEST_METHOD'] != 'POST':\n",
    "            start_response('405 Method Not Allowed', [])\n",
    "            return create_body('Method Not Allowed')\n",
    "\n",
    "        # get X-Line-Signature header value\n",
    "        signature = environ['HTTP_X_LINE_SIGNATURE']\n",
    "\n",
    "        # get request body as text\n",
    "        wsgi_input = environ['wsgi.input']\n",
    "        content_length = int(environ['CONTENT_LENGTH'])\n",
    "        body = wsgi_input.read(content_length).decode('utf-8')\n",
    "\n",
    "        # parse webhook body\n",
    "        try:\n",
    "            events = parser.parse(body, signature)\n",
    "        except InvalidSignatureError:\n",
    "            start_response('400 Bad Request', [])\n",
    "            return create_body('Bad Request')\n",
    "\n",
    "        # if event is MessageEvent and message is TextMessage, then echo text\n",
    "        for event in events:\n",
    "            if not isinstance(event, MessageEvent):\n",
    "                continue\n",
    "            if not isinstance(event.message, TextMessage) and not isinstance(event.message, ImageMessage):\n",
    "                continue\n",
    "            if isinstance(event.message, TextMessage):        \n",
    "                line_bot_api.reply_message(\n",
    "                    event.reply_token,\n",
    "                    TextSendMessage(text=event.message.text)\n",
    "                )\n",
    "            else:\n",
    "                message_content = line_bot_api.get_message_content(event.message.id)\n",
    "                with open(file_path, 'wb') as fd:\n",
    "                    for chunk in message_content.iter_content():\n",
    "                        fd.write(chunk)\n",
    "                    fd.close()\n",
    "                #copy file_path to https://drive.google.com/drive/folders/1B6yZwKZXOhDPkdl8st7_IYdUGZCKfVYp?usp=sharing\n",
    "\n",
    "                echoImageText = ImageSendMessage(\n",
    "                  original_content_url = \"https://835d-161-200-85-86.ap.ngrok.io/images/mos.jpg\",\n",
    "                  preview_image_url = \"https://835d-161-200-85-86.ap.ngrok.io/images/mos.jpg\"\n",
    "                )\n",
    "                line_bot_api.reply_message(\n",
    "                    event.reply_token,\n",
    "                    echoImageText\n",
    "                )\n",
    "        start_response('200 OK', [])\n",
    "        return create_body('OK')    \n",
    "                \n",
    "    else:\n",
    "        headers = [('Content-type', 'image/jpeg')]\n",
    "        start_response('200 OK', headers)\n",
    "        data = b''\n",
    "        filename = file_path\n",
    "        with open(filename, 'rb', buffering=0) as f:\n",
    "            data = f.readall()\n",
    "        print(type(data))       #<class 'bytes'>\n",
    "        return [data]    "
   ]
  },
  {
   "cell_type": "code",
   "execution_count": 19,
   "id": "22844cc2",
   "metadata": {},
   "outputs": [],
   "source": [
    "def create_body(text):\n",
    "    if PY3:\n",
    "        return [bytes(text, 'utf-8')]\n",
    "    else:\n",
    "        return text"
   ]
  },
  {
   "cell_type": "code",
   "execution_count": 20,
   "id": "c7ec4222",
   "metadata": {},
   "outputs": [
    {
     "name": "stdout",
     "output_type": "stream",
     "text": [
      "Serving public on port 5000, control-C to stop\n"
     ]
    },
    {
     "name": "stderr",
     "output_type": "stream",
     "text": [
      "127.0.0.1 - - [22/Jul/2022 14:00:27] \"POST /callback HTTP/1.1\" 200 2\n"
     ]
    },
    {
     "name": "stdout",
     "output_type": "stream",
     "text": [
      "/images/mos.jpg\n",
      "<class 'bytes'>\n"
     ]
    },
    {
     "name": "stderr",
     "output_type": "stream",
     "text": [
      "127.0.0.1 - - [22/Jul/2022 14:00:28] \"GET /images/mos.jpg HTTP/1.1\" 200 172380\n",
      "127.0.0.1 - - [22/Jul/2022 14:00:56] \"POST /callback HTTP/1.1\" 200 2\n"
     ]
    },
    {
     "name": "stdout",
     "output_type": "stream",
     "text": [
      "/images/mos.jpg\n",
      "<class 'bytes'>\n"
     ]
    },
    {
     "name": "stderr",
     "output_type": "stream",
     "text": [
      "127.0.0.1 - - [22/Jul/2022 14:00:56] \"GET /images/mos.jpg HTTP/1.1\" 200 248846\n",
      "127.0.0.1 - - [22/Jul/2022 14:01:12] \"POST /callback HTTP/1.1\" 200 2\n",
      "127.0.0.1 - - [22/Jul/2022 14:06:02] \"POST /callback HTTP/1.1\" 200 2\n",
      "127.0.0.1 - - [22/Jul/2022 14:06:03] \"POST /callback HTTP/1.1\" 200 2\n",
      "127.0.0.1 - - [22/Jul/2022 14:31:22] \"POST /callback HTTP/1.1\" 200 2\n"
     ]
    },
    {
     "name": "stdout",
     "output_type": "stream",
     "text": [
      "/images/mos.jpg\n",
      "<class 'bytes'>\n"
     ]
    },
    {
     "name": "stderr",
     "output_type": "stream",
     "text": [
      "127.0.0.1 - - [22/Jul/2022 14:31:22] \"GET /images/mos.jpg HTTP/1.1\" 200 266324\n"
     ]
    },
    {
     "name": "stdout",
     "output_type": "stream",
     "text": [
      "/images/mos.jpg\n",
      "<class 'bytes'>\n",
      "/images/mos.jpg\n",
      "<class 'bytes'>\n"
     ]
    },
    {
     "name": "stderr",
     "output_type": "stream",
     "text": [
      "127.0.0.1 - - [22/Jul/2022 14:31:22] \"GET /images/mos.jpg HTTP/1.1\" 200 266324\n",
      "127.0.0.1 - - [22/Jul/2022 14:31:22] \"GET /images/mos.jpg HTTP/1.1\" 200 266324\n"
     ]
    },
    {
     "name": "stdout",
     "output_type": "stream",
     "text": [
      "/images/mos.jpg\n",
      "<class 'bytes'>\n"
     ]
    },
    {
     "name": "stderr",
     "output_type": "stream",
     "text": [
      "127.0.0.1 - - [22/Jul/2022 14:31:28] \"GET /images/mos.jpg HTTP/1.1\" 200 266324\n",
      "127.0.0.1 - - [22/Jul/2022 14:31:48] \"POST /callback HTTP/1.1\" 200 2\n",
      "127.0.0.1 - - [22/Jul/2022 14:33:26] \"POST /callback HTTP/1.1\" 200 2\n"
     ]
    },
    {
     "name": "stdout",
     "output_type": "stream",
     "text": [
      "/images/mos.jpg\n",
      "<class 'bytes'>\n"
     ]
    },
    {
     "name": "stderr",
     "output_type": "stream",
     "text": [
      "127.0.0.1 - - [22/Jul/2022 14:33:28] \"GET /images/mos.jpg HTTP/1.1\" 200 734731\n"
     ]
    },
    {
     "name": "stdout",
     "output_type": "stream",
     "text": [
      "/images/mos.jpg\n",
      "<class 'bytes'>\n"
     ]
    },
    {
     "name": "stderr",
     "output_type": "stream",
     "text": [
      "127.0.0.1 - - [22/Jul/2022 14:33:37] \"GET /images/mos.jpg HTTP/1.1\" 200 734731\n"
     ]
    },
    {
     "name": "stdout",
     "output_type": "stream",
     "text": [
      "/images/mos.jpg\n",
      "<class 'bytes'>\n"
     ]
    },
    {
     "name": "stderr",
     "output_type": "stream",
     "text": [
      "127.0.0.1 - - [23/Jul/2022 00:21:39] \"GET /images/mos.jpg HTTP/1.1\" 200 734731\n"
     ]
    },
    {
     "name": "stdout",
     "output_type": "stream",
     "text": [
      "Shutting down.\n"
     ]
    }
   ],
   "source": [
    "if __name__ == '__main__':\n",
    "#     arg_parser = ArgumentParser(\n",
    "#         usage='Usage: python ' + __file__ + ' [--port <port>] [--help]'\n",
    "#     )\n",
    "#     arg_parser.add_argument('-p', '--port', type=int, default=5000, help='port')\n",
    "#     options = arg_parser.parse_args()\n",
    "\n",
    "    path = 'public' \n",
    "    port = 5000\n",
    "    httpd = simple_server.make_server('', port, application)\n",
    "    print(\"Serving {} on port {}, control-C to stop\".format(path, port))\n",
    "    try:\n",
    "        httpd.serve_forever()\n",
    "    except KeyboardInterrupt:\n",
    "        print(\"Shutting down.\")\n",
    "        httpd.server_close()"
   ]
  },
  {
   "cell_type": "code",
   "execution_count": null,
   "id": "0e10be46",
   "metadata": {},
   "outputs": [],
   "source": []
  },
  {
   "cell_type": "code",
   "execution_count": null,
   "id": "8d074cc1",
   "metadata": {},
   "outputs": [],
   "source": []
  }
 ],
 "metadata": {
  "kernelspec": {
   "display_name": "Python 3 (ipykernel)",
   "language": "python",
   "name": "python3"
  },
  "language_info": {
   "codemirror_mode": {
    "name": "ipython",
    "version": 3
   },
   "file_extension": ".py",
   "mimetype": "text/x-python",
   "name": "python",
   "nbconvert_exporter": "python",
   "pygments_lexer": "ipython3",
   "version": "3.10.6"
  }
 },
 "nbformat": 4,
 "nbformat_minor": 5
}
